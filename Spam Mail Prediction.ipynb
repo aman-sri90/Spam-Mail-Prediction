{
 "cells": [
  {
   "cell_type": "markdown",
   "id": "74710024",
   "metadata": {},
   "source": [
    " - SPAM Mails - are freebies; junk emails \n",
    " - HAM Mails - Non Spam Mails"
   ]
  },
  {
   "cell_type": "markdown",
   "id": "8e539048",
   "metadata": {},
   "source": [
    "-  step 1 - get mail data\n",
    "-  step 2 - data preprocessing (convert text mails to numeric format)\n",
    "-  step 3 - train - test split\n",
    "-  step 4 - logistic regression ( best for binary classification - SPAM/ HAM )\n",
    "-  step 5 - validate with new email"
   ]
  },
  {
   "cell_type": "code",
   "execution_count": 36,
   "id": "07cf2c36",
   "metadata": {},
   "outputs": [
    {
     "name": "stdout",
     "output_type": "stream",
     "text": [
      "/Users/maverick\n"
     ]
    }
   ],
   "source": [
    "import os\n",
    "print(os.getcwd())\n",
    "import pandas as pd \n",
    "import numpy as np \n",
    "import seaborn as sns\n",
    "import matplotlib.pyplot as plt\n",
    "from sklearn.model_selection import train_test_split\n",
    "from sklearn.feature_extraction.text import TfidfVectorizer # convert text data into numerical values\n",
    "from sklearn.linear_model import LogisticRegression\n",
    "from sklearn.metrics import confusion_matrix\n",
    "from sklearn.metrics import accuracy_score # model evaluator\n"
   ]
  },
  {
   "cell_type": "markdown",
   "id": "b22044a0",
   "metadata": {},
   "source": [
    "# Data collection  & Pre-Processing"
   ]
  },
  {
   "cell_type": "code",
   "execution_count": 2,
   "id": "5837b8b1",
   "metadata": {},
   "outputs": [],
   "source": [
    "Mail_data = pd.read_csv(r'Desktop/Datasets/mail_data.csv')"
   ]
  },
  {
   "cell_type": "code",
   "execution_count": 3,
   "id": "a99c44a5",
   "metadata": {},
   "outputs": [
    {
     "data": {
      "text/html": [
       "<div>\n",
       "<style scoped>\n",
       "    .dataframe tbody tr th:only-of-type {\n",
       "        vertical-align: middle;\n",
       "    }\n",
       "\n",
       "    .dataframe tbody tr th {\n",
       "        vertical-align: top;\n",
       "    }\n",
       "\n",
       "    .dataframe thead th {\n",
       "        text-align: right;\n",
       "    }\n",
       "</style>\n",
       "<table border=\"1\" class=\"dataframe\">\n",
       "  <thead>\n",
       "    <tr style=\"text-align: right;\">\n",
       "      <th></th>\n",
       "      <th>Category</th>\n",
       "      <th>Message</th>\n",
       "    </tr>\n",
       "  </thead>\n",
       "  <tbody>\n",
       "    <tr>\n",
       "      <th>0</th>\n",
       "      <td>ham</td>\n",
       "      <td>Go until jurong point, crazy.. Available only ...</td>\n",
       "    </tr>\n",
       "    <tr>\n",
       "      <th>1</th>\n",
       "      <td>ham</td>\n",
       "      <td>Ok lar... Joking wif u oni...</td>\n",
       "    </tr>\n",
       "  </tbody>\n",
       "</table>\n",
       "</div>"
      ],
      "text/plain": [
       "  Category                                            Message\n",
       "0      ham  Go until jurong point, crazy.. Available only ...\n",
       "1      ham                      Ok lar... Joking wif u oni..."
      ]
     },
     "execution_count": 3,
     "metadata": {},
     "output_type": "execute_result"
    }
   ],
   "source": [
    "Mail_data.head(2)"
   ]
  },
  {
   "cell_type": "code",
   "execution_count": 4,
   "id": "9e88c426",
   "metadata": {},
   "outputs": [
    {
     "name": "stdout",
     "output_type": "stream",
     "text": [
      "<class 'pandas.core.frame.DataFrame'>\n",
      "RangeIndex: 5572 entries, 0 to 5571\n",
      "Data columns (total 2 columns):\n",
      " #   Column    Non-Null Count  Dtype \n",
      "---  ------    --------------  ----- \n",
      " 0   Category  5572 non-null   object\n",
      " 1   Message   5572 non-null   object\n",
      "dtypes: object(2)\n",
      "memory usage: 87.2+ KB\n"
     ]
    }
   ],
   "source": [
    "Mail_data.info()"
   ]
  },
  {
   "cell_type": "code",
   "execution_count": 5,
   "id": "c6c2f39d",
   "metadata": {},
   "outputs": [
    {
     "data": {
      "text/plain": [
       "Category    0\n",
       "Message     0\n",
       "dtype: int64"
      ]
     },
     "execution_count": 5,
     "metadata": {},
     "output_type": "execute_result"
    }
   ],
   "source": [
    "Mail_data.isnull().sum()"
   ]
  },
  {
   "cell_type": "code",
   "execution_count": 6,
   "id": "8fa1d45c",
   "metadata": {},
   "outputs": [],
   "source": [
    "# replace the null values with null string\n",
    "\n",
    "dfMail = Mail_data.where((pd.notnull(Mail_data)),'')"
   ]
  },
  {
   "cell_type": "code",
   "execution_count": 7,
   "id": "b8203f27",
   "metadata": {},
   "outputs": [
    {
     "data": {
      "text/html": [
       "<div>\n",
       "<style scoped>\n",
       "    .dataframe tbody tr th:only-of-type {\n",
       "        vertical-align: middle;\n",
       "    }\n",
       "\n",
       "    .dataframe tbody tr th {\n",
       "        vertical-align: top;\n",
       "    }\n",
       "\n",
       "    .dataframe thead th {\n",
       "        text-align: right;\n",
       "    }\n",
       "</style>\n",
       "<table border=\"1\" class=\"dataframe\">\n",
       "  <thead>\n",
       "    <tr style=\"text-align: right;\">\n",
       "      <th></th>\n",
       "      <th>Category</th>\n",
       "      <th>Message</th>\n",
       "    </tr>\n",
       "  </thead>\n",
       "  <tbody>\n",
       "    <tr>\n",
       "      <th>0</th>\n",
       "      <td>ham</td>\n",
       "      <td>Go until jurong point, crazy.. Available only ...</td>\n",
       "    </tr>\n",
       "    <tr>\n",
       "      <th>1</th>\n",
       "      <td>ham</td>\n",
       "      <td>Ok lar... Joking wif u oni...</td>\n",
       "    </tr>\n",
       "    <tr>\n",
       "      <th>2</th>\n",
       "      <td>spam</td>\n",
       "      <td>Free entry in 2 a wkly comp to win FA Cup fina...</td>\n",
       "    </tr>\n",
       "    <tr>\n",
       "      <th>3</th>\n",
       "      <td>ham</td>\n",
       "      <td>U dun say so early hor... U c already then say...</td>\n",
       "    </tr>\n",
       "    <tr>\n",
       "      <th>4</th>\n",
       "      <td>ham</td>\n",
       "      <td>Nah I don't think he goes to usf, he lives aro...</td>\n",
       "    </tr>\n",
       "  </tbody>\n",
       "</table>\n",
       "</div>"
      ],
      "text/plain": [
       "  Category                                            Message\n",
       "0      ham  Go until jurong point, crazy.. Available only ...\n",
       "1      ham                      Ok lar... Joking wif u oni...\n",
       "2     spam  Free entry in 2 a wkly comp to win FA Cup fina...\n",
       "3      ham  U dun say so early hor... U c already then say...\n",
       "4      ham  Nah I don't think he goes to usf, he lives aro..."
      ]
     },
     "execution_count": 7,
     "metadata": {},
     "output_type": "execute_result"
    }
   ],
   "source": [
    "# printing the 1st 5 rows from df\n",
    "dfMail.head(5)"
   ]
  },
  {
   "cell_type": "code",
   "execution_count": 8,
   "id": "13f46eb6",
   "metadata": {},
   "outputs": [
    {
     "data": {
      "text/plain": [
       "(5572, 2)"
      ]
     },
     "execution_count": 8,
     "metadata": {},
     "output_type": "execute_result"
    }
   ],
   "source": [
    "# checking the number of rows and columns\n",
    "dfMail.shape"
   ]
  },
  {
   "cell_type": "markdown",
   "id": "e16bc020",
   "metadata": {},
   "source": [
    "- we have 5572 mails "
   ]
  },
  {
   "cell_type": "markdown",
   "id": "038d909f",
   "metadata": {},
   "source": [
    "# Encode category column - to numerical values\n",
    "- label encoding - 1 or 0 \n",
    "- label spam mail as 0 & Ham mails as 1 \n"
   ]
  },
  {
   "cell_type": "code",
   "execution_count": 9,
   "id": "5587657d",
   "metadata": {},
   "outputs": [
    {
     "name": "stdout",
     "output_type": "stream",
     "text": [
      "spam = 0 & ham = 1\n"
     ]
    }
   ],
   "source": [
    "dfMail.loc[dfMail.Category=='spam','Category',] = 0 \n",
    "dfMail.loc[dfMail.Category=='ham','Category',] = 1\n",
    "\n",
    "print (\"spam = 0 & ham = 1\")"
   ]
  },
  {
   "cell_type": "code",
   "execution_count": 10,
   "id": "49bea3ca",
   "metadata": {},
   "outputs": [],
   "source": [
    "# seperating the X - data as text and Y - (labels)\n",
    "\n",
    "X = dfMail.Message\n",
    "Y = dfMail.Category"
   ]
  },
  {
   "cell_type": "code",
   "execution_count": 11,
   "id": "42c78856",
   "metadata": {},
   "outputs": [
    {
     "data": {
      "text/plain": [
       "0       Go until jurong point, crazy.. Available only ...\n",
       "1                           Ok lar... Joking wif u oni...\n",
       "2       Free entry in 2 a wkly comp to win FA Cup fina...\n",
       "3       U dun say so early hor... U c already then say...\n",
       "4       Nah I don't think he goes to usf, he lives aro...\n",
       "                              ...                        \n",
       "5567    This is the 2nd time we have tried 2 contact u...\n",
       "5568                 Will ü b going to esplanade fr home?\n",
       "5569    Pity, * was in mood for that. So...any other s...\n",
       "5570    The guy did some bitching but I acted like i'd...\n",
       "5571                           Rofl. Its true to its name\n",
       "Name: Message, Length: 5572, dtype: object"
      ]
     },
     "execution_count": 11,
     "metadata": {},
     "output_type": "execute_result"
    }
   ],
   "source": [
    "X"
   ]
  },
  {
   "cell_type": "code",
   "execution_count": 12,
   "id": "78eaca3f",
   "metadata": {},
   "outputs": [
    {
     "data": {
      "text/plain": [
       "0       1\n",
       "1       1\n",
       "2       0\n",
       "3       1\n",
       "4       1\n",
       "       ..\n",
       "5567    0\n",
       "5568    1\n",
       "5569    1\n",
       "5570    1\n",
       "5571    1\n",
       "Name: Category, Length: 5572, dtype: object"
      ]
     },
     "execution_count": 12,
     "metadata": {},
     "output_type": "execute_result"
    }
   ],
   "source": [
    "Y"
   ]
  },
  {
   "cell_type": "markdown",
   "id": "73738bbe",
   "metadata": {},
   "source": [
    "# Train - Test Split\n",
    "\n"
   ]
  },
  {
   "cell_type": "code",
   "execution_count": 13,
   "id": "572b9573",
   "metadata": {},
   "outputs": [],
   "source": [
    "X_train, X_test , Y_train, Y_test = train_test_split(X,Y,test_size=0.20,random_state=42)"
   ]
  },
  {
   "cell_type": "code",
   "execution_count": 14,
   "id": "f79cbf45",
   "metadata": {},
   "outputs": [
    {
     "name": "stdout",
     "output_type": "stream",
     "text": [
      "(5572,)\n",
      "(4457,)\n",
      "(1115,)\n"
     ]
    }
   ],
   "source": [
    "print(X.shape)\n",
    "print(X_train.shape)\n",
    "print(X_test.shape)\n"
   ]
  },
  {
   "cell_type": "markdown",
   "id": "c575d65c",
   "metadata": {},
   "source": [
    "# Feature extractions \n"
   ]
  },
  {
   "cell_type": "markdown",
   "id": "4633f35e",
   "metadata": {},
   "source": [
    "- transform the text data to feature vectors that can be used as input to the logistic regression "
   ]
  },
  {
   "cell_type": "code",
   "execution_count": 15,
   "id": "11bdd51c",
   "metadata": {},
   "outputs": [],
   "source": [
    "feature_extraction = TfidfVectorizer(min_df=1,stop_words='english',lowercase='True')\n",
    "\n",
    "# min_df - if score of a particular word is less than 1 we can ignore it \n",
    "# stop_words = 'english '- common words/ meaningless are ignored\n",
    "\n",
    "X_train_features = feature_extraction.fit_transform(X_train)\n",
    "# we fit_transform the data in training dataset\n",
    "\n",
    "\n",
    "X_test_features = feature_extraction.transform(X_test)\n",
    "#in test data we just transform the data - in order to make the test data unaware about the training data set\n",
    "\n",
    "\n",
    "# convert Y_train & Y_test value as integers \n",
    "Y_train = Y_train.astype('int')\n",
    "Y_test = Y_test.astype('int')"
   ]
  },
  {
   "cell_type": "code",
   "execution_count": 18,
   "id": "248d4293",
   "metadata": {},
   "outputs": [
    {
     "name": "stdout",
     "output_type": "stream",
     "text": [
      "1978    Reply to win £100 weekly! Where will the 2006 ...\n",
      "3989    Hello. Sort of out in town already. That . So ...\n",
      "3935     How come guoyang go n tell her? Then u told her?\n",
      "4078    Hey sathya till now we dint meet not even a si...\n",
      "4086    Orange brings you ringtones from all time Char...\n",
      "                              ...                        \n",
      "3772    Hi, wlcome back, did wonder if you got eaten b...\n",
      "5191                               Sorry, I'll call later\n",
      "5226        Prabha..i'm soryda..realy..frm heart i'm sory\n",
      "5390                           Nt joking seriously i told\n",
      "860               Did he just say somebody is named tampa\n",
      "Name: Message, Length: 4457, dtype: object\n",
      "  (0, 5818)\t0.22682143517864364\n",
      "  (0, 2497)\t0.2442158912653505\n",
      "  (0, 694)\t0.3171299579602537\n",
      "  (0, 6264)\t0.1898892037332199\n",
      "  (0, 5800)\t0.17558937755823417\n",
      "  (0, 3262)\t0.33791755486732394\n",
      "  (0, 2049)\t0.3034375179183143\n",
      "  (0, 7300)\t0.24288153842988894\n",
      "  (0, 2724)\t0.3544175987866074\n",
      "  (0, 354)\t0.3544175987866074\n",
      "  (0, 7162)\t0.2550284465664535\n",
      "  (0, 258)\t0.2379428657041507\n",
      "  (0, 7222)\t0.2173884735352799\n",
      "  (0, 5512)\t0.1898892037332199\n",
      "  (1, 2555)\t0.3840709491751004\n",
      "  (1, 3804)\t0.1902902346515268\n",
      "  (1, 3932)\t0.24325511357721427\n",
      "  (1, 4509)\t0.4028245991060671\n",
      "  (1, 2440)\t0.33870544648398715\n",
      "  (1, 3333)\t0.20665394084233096\n",
      "  (1, 5650)\t0.360444144470318\n",
      "  (1, 2335)\t0.2162321275166079\n",
      "  (1, 6738)\t0.28986069568918\n",
      "  (1, 6109)\t0.3239762634465801\n",
      "  (1, 3267)\t0.2678713077029217\n",
      "  :\t:\n",
      "  (4452, 2438)\t0.4574160733416501\n",
      "  (4452, 7280)\t0.3968991650168732\n",
      "  (4452, 3978)\t0.4574160733416501\n",
      "  (4452, 3290)\t0.26370969643076225\n",
      "  (4452, 3084)\t0.22948428918295163\n",
      "  (4452, 2236)\t0.2676662072392096\n",
      "  (4453, 3874)\t0.6064947019588056\n",
      "  (4453, 4004)\t0.5244851817485773\n",
      "  (4453, 6108)\t0.5975612693457145\n",
      "  (4454, 6113)\t0.4465347909835087\n",
      "  (4454, 6114)\t0.4465347909835087\n",
      "  (4454, 5149)\t0.43410473161397095\n",
      "  (4454, 5409)\t0.4079234999314281\n",
      "  (4454, 3249)\t0.3182708584577292\n",
      "  (4454, 2893)\t0.38087861810984514\n",
      "  (4455, 5815)\t0.5332274226200294\n",
      "  (4455, 3691)\t0.5541750775894743\n",
      "  (4455, 4660)\t0.4924788339394118\n",
      "  (4455, 6686)\t0.40745931976870786\n",
      "  (4456, 4518)\t0.5364209818026567\n",
      "  (4456, 6078)\t0.46545159250664164\n",
      "  (4456, 6467)\t0.48168628392630153\n",
      "  (4456, 5719)\t0.3276287995831882\n",
      "  (4456, 2236)\t0.31389751705425334\n",
      "  (4456, 3720)\t0.24023610815826446\n"
     ]
    },
    {
     "data": {
      "text/plain": [
       "(None, None)"
      ]
     },
     "execution_count": 18,
     "metadata": {},
     "output_type": "execute_result"
    }
   ],
   "source": [
    "print(X_train), print(X_train_features)\n",
    "\n",
    "# X_train features are the numeric representation of X_test (i.e the orignal data)"
   ]
  },
  {
   "cell_type": "markdown",
   "id": "27a4520b",
   "metadata": {},
   "source": [
    "# Training the ML - Logistic Regression Model \n",
    "\n"
   ]
  },
  {
   "cell_type": "code",
   "execution_count": 19,
   "id": "81d4f321",
   "metadata": {},
   "outputs": [],
   "source": [
    "model = LogisticRegression()"
   ]
  },
  {
   "cell_type": "code",
   "execution_count": 20,
   "id": "2f366655",
   "metadata": {},
   "outputs": [
    {
     "data": {
      "text/plain": [
       "LogisticRegression()"
      ]
     },
     "execution_count": 20,
     "metadata": {},
     "output_type": "execute_result"
    }
   ],
   "source": [
    "# training the Logistic Regression model with the training data \n",
    "\n",
    "model.fit(X_train_features,Y_train)\n",
    "# X_train_features - contains numeric representation of X_train data ( Mails )\n",
    "# Y_train - contains the labels ( 0 or 1) - spam/ham"
   ]
  },
  {
   "cell_type": "markdown",
   "id": "ca3125db",
   "metadata": {},
   "source": [
    "# Evaluate the model \n"
   ]
  },
  {
   "cell_type": "code",
   "execution_count": 22,
   "id": "d618273c",
   "metadata": {},
   "outputs": [],
   "source": [
    "# predicition on training data\n",
    "\n",
    "prediction_on_training_data = model.predict(X_train_features) \n",
    "\n",
    "#stores all values predicted by the model \n",
    "\n",
    "accuracy_on_training_data = accuracy_score(Y_train,prediction_on_training_data) \n",
    "# Here Y_train is the true or real label data, prediction_on_training_data is the predicted values\n",
    "\n",
    "# we give the X_train_feature data to the model - which gives an ouput (1 or 0)/ spam or ham and \n",
    "# compare with orignal Y_train labels 1 or 0 "
   ]
  },
  {
   "cell_type": "code",
   "execution_count": 30,
   "id": "688889d9",
   "metadata": {},
   "outputs": [
    {
     "name": "stdout",
     "output_type": "stream",
     "text": [
      "Accuracy on Training data = 96.61207089970833\n"
     ]
    }
   ],
   "source": [
    "print('Accuracy on Training data =',accuracy_on_training_data * 100)"
   ]
  },
  {
   "cell_type": "markdown",
   "id": "3e69b343",
   "metadata": {},
   "source": [
    "# Evaluate with test data "
   ]
  },
  {
   "cell_type": "code",
   "execution_count": 37,
   "id": "c3af413b",
   "metadata": {},
   "outputs": [
    {
     "name": "stdout",
     "output_type": "stream",
     "text": [
      "[[113  36]\n",
      " [  0 966]]\n"
     ]
    }
   ],
   "source": [
    "# predicition on training data\n",
    "\n",
    "prediction_on_test_data = model.predict(X_test_features) \n",
    "\n",
    "#stores all values predicted by the model \n",
    "\n",
    "accuracy_on_test_data = accuracy_score(Y_test,prediction_on_test_data) \n",
    "# Here Y_test is the true or real label data, prediction_on_test_data is the predicted values\n",
    "\n",
    "# we give the X_test_feature data to the model - which gives an ouput (1 or 0)/ spam or ham and \n",
    "# compare with orignal Y_test labels 1 or 0 \n",
    "\n",
    "# lets check with confusion matrix\n",
    "\n",
    "cm = confusion_matrix(Y_test, prediction_on_test_data)\n",
    "print(cm)"
   ]
  },
  {
   "cell_type": "markdown",
   "id": "da3b50da",
   "metadata": {},
   "source": [
    "- The confusion matrix tells us we a have total of 36 (0 + 36) misclassified data out of the 1115 test points (in terms of: Spam, or HAM). \n",
    "\n",
    "- A better way to visualize this can be accomplished with the code below:"
   ]
  },
  {
   "cell_type": "code",
   "execution_count": 40,
   "id": "6212f99a",
   "metadata": {},
   "outputs": [
    {
     "data": {
      "text/plain": [
       "1115"
      ]
     },
     "execution_count": 40,
     "metadata": {},
     "output_type": "execute_result"
    }
   ],
   "source": [
    "113+36+0+966"
   ]
  },
  {
   "cell_type": "code",
   "execution_count": 39,
   "id": "a0b50de1",
   "metadata": {},
   "outputs": [
    {
     "data": {
      "image/png": "[encoded data removed]",
      "text/plain": [
       "<Figure size 640x480 with 1 Axes>"
      ]
     },
     "metadata": {},
     "output_type": "display_data"
    }
   ],
   "source": [
    "plt.clf()\n",
    "plt.imshow(cm, interpolation='nearest', cmap=plt.cm.Wistia)\n",
    "classNames = ['Negative','Positive']\n",
    "plt.title('Spam or HAM Confusion Matrix - Test Data')\n",
    "plt.ylabel('True label')\n",
    "plt.xlabel('Predicted label')\n",
    "tick_marks = np.arange(len(classNames))\n",
    "plt.xticks(tick_marks, classNames, rotation=45)\n",
    "plt.yticks(tick_marks, classNames)\n",
    "s = [['TN','FP'], ['FN', 'TP']]\n",
    "for i in range(2):\n",
    "    for j in range(2):\n",
    "        plt.text(j,i, str(s[i][j])+\" = \"+str(cm[i][j]))\n",
    "plt.show()"
   ]
  },
  {
   "cell_type": "code",
   "execution_count": 41,
   "id": "e026013d",
   "metadata": {},
   "outputs": [],
   "source": [
    "# To plot and display the decision boundary that separates the two classes (Spam or HAM ):"
   ]
  },
  {
   "cell_type": "code",
   "execution_count": 32,
   "id": "6e9a9ad8",
   "metadata": {},
   "outputs": [
    {
     "name": "stdout",
     "output_type": "stream",
     "text": [
      "Accuracy on Test data = 96.7713004484305\n"
     ]
    }
   ],
   "source": [
    "print('Accuracy on Test data =',accuracy_on_test_data * 100)"
   ]
  },
  {
   "cell_type": "markdown",
   "id": "886690ea",
   "metadata": {},
   "source": [
    "# we evaluate both on training & test data to check for over-fitting\n",
    "- when accuaracy score is high in training data & low in test data - it is overfitting\n",
    "- for eg - accuracy is 96 % in training data & 60 % in test data"
   ]
  },
  {
   "cell_type": "markdown",
   "id": "2e923ed5",
   "metadata": {},
   "source": [
    "# Build a predicitve system \n",
    "- Check for a new mail - wheather it is a spam or ham"
   ]
  },
  {
   "cell_type": "code",
   "execution_count": 35,
   "id": "62adf023",
   "metadata": {},
   "outputs": [
    {
     "name": "stdout",
     "output_type": "stream",
     "text": [
      "[0]\n",
      "SPAM Mail\n"
     ]
    }
   ],
   "source": [
    "# lets take a spam mail and check if our model - correctly predicts it \n",
    "\n",
    "input_mail = ['WINNER!! As a valued network customer you have been selected to receivea £900 prize reward! To claim call 09061701461. Claim code KL341. Valid 12 hours only.']\n",
    "\n",
    "# transform text mail - to numerical feature vector\n",
    "\n",
    "input_data_features = feature_extraction.transform(input_mail)\n",
    "\n",
    "# make predictions \n",
    "\n",
    "prediction = model.predict(input_data_features)\n",
    "\n",
    "print(prediction)\n",
    "\n",
    "\n",
    "if prediction[0] == 1: # first element of list \n",
    "    print(\"HAM Mail\")\n",
    "else:\n",
    "    print(\"SPAM Mail\")"
   ]
  },
  {
   "cell_type": "code",
   "execution_count": null,
   "id": "f5942d23",
   "metadata": {},
   "outputs": [],
   "source": []
  }
 ],
 "metadata": {
  "kernelspec": {
   "display_name": "Python 3 (ipykernel)",
   "language": "python",
   "name": "python3"
  },
  "language_info": {
   "codemirror_mode": {
    "name": "ipython",
    "version": 3
   },
   "file_extension": ".py",
   "mimetype": "text/x-python",
   "name": "python",
   "nbconvert_exporter": "python",
   "pygments_lexer": "ipython3",
   "version": "3.9.13"
  }
 },
 "nbformat": 4,
 "nbformat_minor": 5
}
